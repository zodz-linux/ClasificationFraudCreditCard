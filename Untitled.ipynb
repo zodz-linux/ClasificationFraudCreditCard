{
 "cells": [
  {
   "cell_type": "code",
   "execution_count": 1,
   "metadata": {},
   "outputs": [
    {
     "name": "stdout",
     "output_type": "stream",
     "text": [
      "\tDatos Cargados\n",
      "Instancias: 284807\n",
      "Atributos:  31\n"
     ]
    }
   ],
   "source": [
    "import numpy as np\n",
    "import pandas as pd\n",
    "from sklearn import tree\n",
    "\n",
    "#fuente de los datos\n",
    "#https://www.kaggle.com/dalpozz/creditcardfraud\n",
    "#\"Time\",\"V1\" - \"V28\",\"Amount\",\"Class\"\n",
    "\n",
    "def Cargar_Datos():\n",
    "    data_file=\"creditcard.csv\"\n",
    "    f_data=open(data_file,\"rb\")\n",
    "    data=[]\n",
    "    for line in f_data:\n",
    "        tmp=line.strip()\n",
    "        tmp.replace('\\\"','')\n",
    "        if  \"0\" in tmp[-3:] :\n",
    "            tmp=(tmp[:-3])+\"0\"\n",
    "        else:\n",
    "            tmp=(tmp[:-3])+\"1\"\n",
    "        tmp2=[float(i) for  i in tmp.split(\",\")]\n",
    "        data.append(tmp2)\n",
    "    data=np.array(data)\n",
    "    print \"\\tDatos Cargados\"\n",
    "    print \"Instancias:\", data.shape[0]\n",
    "    print \"Atributos: \", data.shape[1]\n",
    "    return data\n",
    "\n",
    "\n",
    "datos=Cargar_Datos()\n"
   ]
  },
  {
   "cell_type": "code",
   "execution_count": null,
   "metadata": {
    "collapsed": true
   },
   "outputs": [],
   "source": []
  }
 ],
 "metadata": {
  "kernelspec": {
   "display_name": "Python 2",
   "language": "python",
   "name": "python2"
  },
  "language_info": {
   "codemirror_mode": {
    "name": "ipython",
    "version": 2
   },
   "file_extension": ".py",
   "mimetype": "text/x-python",
   "name": "python",
   "nbconvert_exporter": "python",
   "pygments_lexer": "ipython2",
   "version": "2.7.13"
  }
 },
 "nbformat": 4,
 "nbformat_minor": 2
}
